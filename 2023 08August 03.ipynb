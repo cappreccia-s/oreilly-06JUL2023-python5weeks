{
 "cells": [
  {
   "cell_type": "markdown",
   "id": "2ccabbdb-1b11-4986-9245-d73c02966955",
   "metadata": {},
   "source": [
    "# Agenda, week 5: Modules and packages\n",
    "\n",
    "1. Review of the challenge\n",
    "2. Q&A\n",
    "3. What are modules?\n",
    "4. Using `import` to retrieve data from modules\n",
    "5. Different variations on `import`\n",
    "6. How do we develop a module?\n",
    "7. What happens when a module is imported?\n",
    "8. Python's standard library\n",
    "9. Packages and PyPI -- finding and downloading them onto your computer\n",
    "10. Using `pip`\n",
    "11. What's next?\n",
    "\n"
   ]
  },
  {
   "cell_type": "code",
   "execution_count": 1,
   "id": "14e84017-9562-4c8b-971e-cd04c92cd6d5",
   "metadata": {},
   "outputs": [],
   "source": [
    "# Challenge solution\n",
    "\n",
    "# Write your code below...\n",
    "\n",
    "def count_ips(filename):\n",
    "    output = {}\n",
    "    for one_line in open(filename):\n",
    "\n",
    "        # turn the line into a list of strings, separating on whitespace\n",
    "        # grab the first field, at index 0-- the IP address\n",
    "        ip_address = one_line.split()[0]  \n",
    "\n",
    "        # have I seen this IP address already?\n",
    "        # If so, then just add 1 to its value\n",
    "\n",
    "        if ip_address in output:     # \"in\" on a dict checks the keys\n",
    "            output[ip_address] += 1\n",
    "        else:                        # first time seeing this IP address\n",
    "            output[ip_address] = 1\n",
    "\n",
    "    return output\n",
    "\n"
   ]
  },
  {
   "cell_type": "code",
   "execution_count": 2,
   "id": "e3034f4f-4e2e-4a6d-922e-7cc25870c03a",
   "metadata": {},
   "outputs": [],
   "source": [
    "counts = count_ips('mini-access-log.txt')"
   ]
  },
  {
   "cell_type": "code",
   "execution_count": 5,
   "id": "48c3a14c-3914-4c99-a9f0-4a84acd10795",
   "metadata": {},
   "outputs": [
    {
     "name": "stdout",
     "output_type": "stream",
     "text": [
      "67.218.116.165:\t2\n",
      "66.249.71.65:\t3\n",
      "65.55.106.183:\t2\n",
      "66.249.65.12:\t32\n",
      "65.55.106.131:\t2\n",
      "65.55.106.186:\t2\n",
      "74.52.245.146:\t2\n",
      "66.249.65.43:\t3\n",
      "65.55.207.25:\t2\n",
      "65.55.207.94:\t2\n",
      "65.55.207.71:\t1\n",
      "98.242.170.241:\t1\n",
      "66.249.65.38:\t100\n",
      "65.55.207.126:\t2\n",
      "82.34.9.20:\t2\n",
      "65.55.106.155:\t2\n",
      "65.55.207.77:\t2\n",
      "208.80.193.28:\t1\n",
      "89.248.172.58:\t22\n",
      "67.195.112.35:\t16\n",
      "65.55.207.50:\t3\n",
      "65.55.215.75:\t2\n"
     ]
    }
   ],
   "source": [
    "# let's print this dict nicely!\n",
    "\n",
    "for key, value in counts.items():\n",
    "    print(f'{key}:\\t{value}')"
   ]
  },
  {
   "cell_type": "code",
   "execution_count": 8,
   "id": "bf6e3cea-5ad3-4ae1-aecc-b7929fee78d5",
   "metadata": {},
   "outputs": [
    {
     "name": "stdout",
     "output_type": "stream",
     "text": [
      "67.218.116.165:\txx\n",
      "66.249.71.65:\txxx\n",
      "65.55.106.183:\txx\n",
      "66.249.65.12:\txxxxxxxxxxxxxxxxxxxxxxxxxxxxxxxx\n",
      "65.55.106.131:\txx\n",
      "65.55.106.186:\txx\n",
      "74.52.245.146:\txx\n",
      "66.249.65.43:\txxx\n",
      "65.55.207.25:\txx\n",
      "65.55.207.94:\txx\n",
      "65.55.207.71:\tx\n",
      "98.242.170.241:\tx\n",
      "66.249.65.38:\txxxxxxxxxxxxxxxxxxxxxxxxxxxxxxxxxxxxxxxxxxxxxxxxxxxxxxxxxxxxxxxxxxxxxxxxxxxxxxxxxxxxxxxxxxxxxxxxxxxx\n",
      "65.55.207.126:\txx\n",
      "82.34.9.20:\txx\n",
      "65.55.106.155:\txx\n",
      "65.55.207.77:\txx\n",
      "208.80.193.28:\tx\n",
      "89.248.172.58:\txxxxxxxxxxxxxxxxxxxxxx\n",
      "67.195.112.35:\txxxxxxxxxxxxxxxx\n",
      "65.55.207.50:\txxx\n",
      "65.55.215.75:\txx\n"
     ]
    }
   ],
   "source": [
    "# what if your boss doesn't want to see numbers, but rather wants to see a histogram?\n",
    "\n",
    "for key, value in counts.items():\n",
    "    print(f'{key}:\\t{value * \"x\"}')"
   ]
  },
  {
   "cell_type": "code",
   "execution_count": 6,
   "id": "8448eeff-f43c-4a8a-854d-69e9688eba36",
   "metadata": {},
   "outputs": [
    {
     "ename": "TypeError",
     "evalue": "unsupported operand type(s) for +: 'int' and 'str'",
     "output_type": "error",
     "traceback": [
      "\u001b[0;31m---------------------------------------------------------------------------\u001b[0m",
      "\u001b[0;31mTypeError\u001b[0m                                 Traceback (most recent call last)",
      "Cell \u001b[0;32mIn[6], line 1\u001b[0m\n\u001b[0;32m----> 1\u001b[0m \u001b[38;5;241;43m5\u001b[39;49m\u001b[43m \u001b[49m\u001b[38;5;241;43m+\u001b[39;49m\u001b[43m \u001b[49m\u001b[38;5;124;43m'\u001b[39;49m\u001b[38;5;124;43ma\u001b[39;49m\u001b[38;5;124;43m'\u001b[39;49m\n",
      "\u001b[0;31mTypeError\u001b[0m: unsupported operand type(s) for +: 'int' and 'str'"
     ]
    }
   ],
   "source": [
    "5 + 'a'"
   ]
  },
  {
   "cell_type": "code",
   "execution_count": 7,
   "id": "aabd12d9-165e-4a2e-9b12-8da2542b8392",
   "metadata": {},
   "outputs": [
    {
     "data": {
      "text/plain": [
       "'aaaaa'"
      ]
     },
     "execution_count": 7,
     "metadata": {},
     "output_type": "execute_result"
    }
   ],
   "source": [
    "5 * 'a'   # yes, this will work!"
   ]
  },
  {
   "cell_type": "markdown",
   "id": "d145483c-55c6-4c60-9d7e-7c877d64cc82",
   "metadata": {},
   "source": [
    "# Modules and packages\n",
    "\n",
    "We've spoken several times about \"Don't repeat yourself\" -- the \"DRY rule.\"  We've talked about it in two different contexts so far:\n",
    "\n",
    "1. If we have several lines in a row that are roughly the same, we should turn those into a loop.\n",
    "2. If we have several places in a program that are roughly the same, we should turn those into a function and then invoke the function in several places.\n",
    "3. If we have the same code in several different programs, we can use a library, and then reference the code in that library whenever we need it.\n",
    "\n",
    "In Python, our libraries are known as \"modules and packages.\" A module is a single file containing Python code, and a package is a directory containing one or more modules + other packages.  (You can think of them as files and folders.)\n",
    "\n",
    "1. If you want to do something that others have already done many times before, the odds are good that you can use someone else's library to do it.\n",
    "2. If you have implemented something (including at work) that might help others (or yourself) in future programs, then you can write a module and share it with others.\n",
    "\n",
    "The whole idea here is that you shouldn't be re-inventing the wheel. And if you use a module, then you don't have to worry about writing or maintaining that code. It's someone else's problem!\n",
    "\n",
    "Modules in Python do all of this -- they let us reuse code, and concentrate on the new, distinct problems we have to solve.\n",
    "\n",
    "But modules also do something else: They are also namespaces! In other words, if I'm working on a program that uses a variable `x` and you're working on a program that uses a variable `x`, then we don't want them to collide and interfere with one another. Modules separate each file, such that this cannot happen (or at least, not easily)."
   ]
  },
  {
   "cell_type": "markdown",
   "id": "553f2431-e82b-46e5-a83d-e859d111afc1",
   "metadata": {},
   "source": [
    "To use a module, you use the `import` statement.  A few things about `import`:\n",
    "\n",
    "- It is a statement, not a function. Don't use parentheses.\n",
    "- The argument you give to `import` is a word, not a string. It is the name of the module you want to load.  It is not a filename, either!\n",
    "- After you use `import`, you can use the module; anything defined in the module is available as an *attribute* on the module object, after a `.` ."
   ]
  },
  {
   "cell_type": "code",
   "execution_count": 9,
   "id": "42d2689c-22d9-4d1a-bec3-66753928bd48",
   "metadata": {},
   "outputs": [
    {
     "data": {
      "text/plain": [
       "95"
      ]
     },
     "execution_count": 9,
     "metadata": {},
     "output_type": "execute_result"
    }
   ],
   "source": [
    "import random       # this imports the \"random\" module that comes with Python\n",
    "\n",
    "# once we've done that, we can access an attribute x as random.x\n",
    "# attributes can be data, functions, or even classes (data types)\n",
    "\n",
    "random.randint(0, 100)   # here, we retrieve the \"randint\" function from the \"random\" module ... and run it!"
   ]
  },
  {
   "cell_type": "markdown",
   "id": "ac765a24-686d-48e1-b201-bbf3162a7d06",
   "metadata": {},
   "source": [
    "# Exercise: `glob`\n",
    "\n",
    "The `glob` module contains a function, also c"
   ]
  }
 ],
 "metadata": {
  "kernelspec": {
   "display_name": "Python 3 (ipykernel)",
   "language": "python",
   "name": "python3"
  },
  "language_info": {
   "codemirror_mode": {
    "name": "ipython",
    "version": 3
   },
   "file_extension": ".py",
   "mimetype": "text/x-python",
   "name": "python",
   "nbconvert_exporter": "python",
   "pygments_lexer": "ipython3",
   "version": "3.11.4"
  }
 },
 "nbformat": 4,
 "nbformat_minor": 5
}
