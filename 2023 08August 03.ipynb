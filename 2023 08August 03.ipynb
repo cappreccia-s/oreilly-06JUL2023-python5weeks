{
 "cells": [
  {
   "cell_type": "markdown",
   "id": "2ccabbdb-1b11-4986-9245-d73c02966955",
   "metadata": {},
   "source": [
    "# Agenda, week 5: Modules and packages\n",
    "\n",
    "1. Review of the challenge\n",
    "2. Q&A\n",
    "3. What are modules?\n",
    "4. Using `import` to retrieve data from modules\n",
    "5. Different variations on `import`\n",
    "6. How do we develop a module?\n",
    "7. What happens when a module is imported?\n",
    "8. Python's standard library\n",
    "9. Packages and PyPI -- finding and downloading them onto your computer\n",
    "10. Using `pip`\n",
    "11. What's next?\n",
    "\n"
   ]
  },
  {
   "cell_type": "code",
   "execution_count": 1,
   "id": "14e84017-9562-4c8b-971e-cd04c92cd6d5",
   "metadata": {},
   "outputs": [],
   "source": [
    "# Challenge solution\n",
    "\n",
    "# Write your code below...\n",
    "\n",
    "def count_ips(filename):\n",
    "    output = {}\n",
    "    for one_line in open(filename):\n",
    "\n",
    "        # turn the line into a list of strings, separating on whitespace\n",
    "        # grab the first field, at index 0-- the IP address\n",
    "        ip_address = one_line.split()[0]  \n",
    "\n",
    "        # have I seen this IP address already?\n",
    "        # If so, then just add 1 to its value\n",
    "\n",
    "        if ip_address in output:     # \"in\" on a dict checks the keys\n",
    "            output[ip_address] += 1\n",
    "        else:                        # first time seeing this IP address\n",
    "            output[ip_address] = 1\n",
    "\n",
    "    return output\n",
    "\n"
   ]
  },
  {
   "cell_type": "code",
   "execution_count": 2,
   "id": "e3034f4f-4e2e-4a6d-922e-7cc25870c03a",
   "metadata": {},
   "outputs": [],
   "source": [
    "counts = count_ips('mini-access-log.txt')"
   ]
  },
  {
   "cell_type": "code",
   "execution_count": 5,
   "id": "48c3a14c-3914-4c99-a9f0-4a84acd10795",
   "metadata": {},
   "outputs": [
    {
     "name": "stdout",
     "output_type": "stream",
     "text": [
      "67.218.116.165:\t2\n",
      "66.249.71.65:\t3\n",
      "65.55.106.183:\t2\n",
      "66.249.65.12:\t32\n",
      "65.55.106.131:\t2\n",
      "65.55.106.186:\t2\n",
      "74.52.245.146:\t2\n",
      "66.249.65.43:\t3\n",
      "65.55.207.25:\t2\n",
      "65.55.207.94:\t2\n",
      "65.55.207.71:\t1\n",
      "98.242.170.241:\t1\n",
      "66.249.65.38:\t100\n",
      "65.55.207.126:\t2\n",
      "82.34.9.20:\t2\n",
      "65.55.106.155:\t2\n",
      "65.55.207.77:\t2\n",
      "208.80.193.28:\t1\n",
      "89.248.172.58:\t22\n",
      "67.195.112.35:\t16\n",
      "65.55.207.50:\t3\n",
      "65.55.215.75:\t2\n"
     ]
    }
   ],
   "source": [
    "# let's print this dict nicely!\n",
    "\n",
    "for key, value in counts.items():\n",
    "    print(f'{key}:\\t{value}')"
   ]
  },
  {
   "cell_type": "code",
   "execution_count": 8,
   "id": "bf6e3cea-5ad3-4ae1-aecc-b7929fee78d5",
   "metadata": {},
   "outputs": [
    {
     "name": "stdout",
     "output_type": "stream",
     "text": [
      "67.218.116.165:\txx\n",
      "66.249.71.65:\txxx\n",
      "65.55.106.183:\txx\n",
      "66.249.65.12:\txxxxxxxxxxxxxxxxxxxxxxxxxxxxxxxx\n",
      "65.55.106.131:\txx\n",
      "65.55.106.186:\txx\n",
      "74.52.245.146:\txx\n",
      "66.249.65.43:\txxx\n",
      "65.55.207.25:\txx\n",
      "65.55.207.94:\txx\n",
      "65.55.207.71:\tx\n",
      "98.242.170.241:\tx\n",
      "66.249.65.38:\txxxxxxxxxxxxxxxxxxxxxxxxxxxxxxxxxxxxxxxxxxxxxxxxxxxxxxxxxxxxxxxxxxxxxxxxxxxxxxxxxxxxxxxxxxxxxxxxxxxx\n",
      "65.55.207.126:\txx\n",
      "82.34.9.20:\txx\n",
      "65.55.106.155:\txx\n",
      "65.55.207.77:\txx\n",
      "208.80.193.28:\tx\n",
      "89.248.172.58:\txxxxxxxxxxxxxxxxxxxxxx\n",
      "67.195.112.35:\txxxxxxxxxxxxxxxx\n",
      "65.55.207.50:\txxx\n",
      "65.55.215.75:\txx\n"
     ]
    }
   ],
   "source": [
    "# what if your boss doesn't want to see numbers, but rather wants to see a histogram?\n",
    "\n",
    "for key, value in counts.items():\n",
    "    print(f'{key}:\\t{value * \"x\"}')"
   ]
  },
  {
   "cell_type": "code",
   "execution_count": 6,
   "id": "8448eeff-f43c-4a8a-854d-69e9688eba36",
   "metadata": {},
   "outputs": [
    {
     "ename": "TypeError",
     "evalue": "unsupported operand type(s) for +: 'int' and 'str'",
     "output_type": "error",
     "traceback": [
      "\u001b[0;31m---------------------------------------------------------------------------\u001b[0m",
      "\u001b[0;31mTypeError\u001b[0m                                 Traceback (most recent call last)",
      "Cell \u001b[0;32mIn[6], line 1\u001b[0m\n\u001b[0;32m----> 1\u001b[0m \u001b[38;5;241;43m5\u001b[39;49m\u001b[43m \u001b[49m\u001b[38;5;241;43m+\u001b[39;49m\u001b[43m \u001b[49m\u001b[38;5;124;43m'\u001b[39;49m\u001b[38;5;124;43ma\u001b[39;49m\u001b[38;5;124;43m'\u001b[39;49m\n",
      "\u001b[0;31mTypeError\u001b[0m: unsupported operand type(s) for +: 'int' and 'str'"
     ]
    }
   ],
   "source": [
    "5 + 'a'"
   ]
  },
  {
   "cell_type": "code",
   "execution_count": 7,
   "id": "aabd12d9-165e-4a2e-9b12-8da2542b8392",
   "metadata": {},
   "outputs": [
    {
     "data": {
      "text/plain": [
       "'aaaaa'"
      ]
     },
     "execution_count": 7,
     "metadata": {},
     "output_type": "execute_result"
    }
   ],
   "source": [
    "5 * 'a'   # yes, this will work!"
   ]
  },
  {
   "cell_type": "markdown",
   "id": "d145483c-55c6-4c60-9d7e-7c877d64cc82",
   "metadata": {},
   "source": [
    "# Modules and packages\n",
    "\n",
    "We've spoken several times about \"Don't repeat yourself\" -- the \"DRY rule.\"  We've talked about it in two different contexts so far:\n",
    "\n",
    "1. If we have several lines in a row that are roughly the same, we should turn those into a loop.\n",
    "2. If we have several places in a program that are roughly the same, we should turn those into a function and then invoke the function in several places.\n",
    "3. If we have the same code in several different programs, we can use a library, and then reference the code in that library whenever we need it.\n",
    "\n",
    "In Python, our libraries are known as \"modules and packages.\" A module is a single file containing Python code, and a package is a directory containing one or more modules + other packages.  (You can think of them as files and folders.)\n",
    "\n",
    "1. If you want to do something that others have already done many times before, the odds are good that you can use someone else's library to do it.\n",
    "2. If you have implemented something (including at work) that might help others (or yourself) in future programs, then you can write a module and share it with others.\n",
    "\n",
    "The whole idea here is that you shouldn't be re-inventing the wheel. And if you use a module, then you don't have to worry about writing or maintaining that code. It's someone else's problem!\n",
    "\n",
    "Modules in Python do all of this -- they let us reuse code, and concentrate on the new, distinct problems we have to solve.\n",
    "\n",
    "But modules also do something else: They are also namespaces! In other words, if I'm working on a program that uses a variable `x` and you're working on a program that uses a variable `x`, then we don't want them to collide and interfere with one another. Modules separate each file, such that this cannot happen (or at least, not easily)."
   ]
  },
  {
   "cell_type": "markdown",
   "id": "553f2431-e82b-46e5-a83d-e859d111afc1",
   "metadata": {},
   "source": [
    "To use a module, you use the `import` statement.  A few things about `import`:\n",
    "\n",
    "- It is a statement, not a function. Don't use parentheses.\n",
    "- The argument you give to `import` is a word, not a string. It is the name of the module you want to load.  It is not a filename, either!\n",
    "- After you use `import`, you can use the module; anything defined in the module is available as an *attribute* on the module object, after a `.` ."
   ]
  },
  {
   "cell_type": "code",
   "execution_count": 9,
   "id": "42d2689c-22d9-4d1a-bec3-66753928bd48",
   "metadata": {},
   "outputs": [
    {
     "data": {
      "text/plain": [
       "95"
      ]
     },
     "execution_count": 9,
     "metadata": {},
     "output_type": "execute_result"
    }
   ],
   "source": [
    "import random       # this imports the \"random\" module that comes with Python\n",
    "\n",
    "# once we've done that, we can access an attribute x as random.x\n",
    "# attributes can be data, functions, or even classes (data types)\n",
    "\n",
    "random.randint(0, 100)   # here, we retrieve the \"randint\" function from the \"random\" module ... and run it!"
   ]
  },
  {
   "cell_type": "markdown",
   "id": "ac765a24-686d-48e1-b201-bbf3162a7d06",
   "metadata": {},
   "source": [
    "# Exercise: `glob`\n",
    "\n",
    "The `glob` module contains a function, also called `glob` (so yes, it's `glob.glob`) that takes a pattern of filenames, including `*` and `?`, and returns all of the filenames that match that pattern. It returns a list of strings, the filenames matching that pattern.\n",
    "\n",
    "1. Ask the user to enter a pattern. The pattern can be as simple as `'*.txt'`, which means that it'll return all of the text files in the current directory.\n",
    "2. Create an empty dict, `counts`. This dict will count the file extensions (suffixes). The keys will be strings and the values will be integers, counting how often each extension exists.\n",
    "3. Iterate over each filename, grabbing the extension (remember, you can use `str.split` and look at the end with an index of -1), and using it to count.\n",
    "4. Iterate over the dict, and print its values."
   ]
  },
  {
   "cell_type": "markdown",
   "id": "f2eedd4f-ab17-4a92-9c92-1beaa0c8dce6",
   "metadata": {},
   "source": [
    "If you get an error saying \"SOMETHING is not callable,\" that means you wrote\n",
    "\n",
    "    SOMETHING()\n",
    "\n",
    "with parentheses after it, and SOMETHING is not a function and not a class.  I'm guessing that you wrote\n",
    "\n",
    "    import glob\n",
    "\n",
    "and you then wrote glob() rather than glob.glob().    "
   ]
  },
  {
   "cell_type": "code",
   "execution_count": 18,
   "id": "37fd5fba-adcb-4513-8aac-bd842b95fa74",
   "metadata": {},
   "outputs": [
    {
     "name": "stdin",
     "output_type": "stream",
     "text": [
      "Enter a pattern:  *\n"
     ]
    },
    {
     "name": "stdout",
     "output_type": "stream",
     "text": [
      "txt:\t6\n",
      "ipynb:\t5\n",
      "md:\t1\n",
      "md~:\t1\n",
      "zip:\t1\n"
     ]
    }
   ],
   "source": [
    "import glob\n",
    "\n",
    "pattern = input('Enter a pattern: ').strip()\n",
    "\n",
    "counts = {}\n",
    "for one_filename in glob.glob(pattern):\n",
    "    # print(f'\\t{one_filename}')\n",
    "    extension = one_filename.split('.')[-1]   # grab the final part of the filename, after the last .\n",
    "\n",
    "    if extension in counts:\n",
    "        counts[extension] += 1\n",
    "    else:\n",
    "        counts[extension] = 1\n",
    "\n",
    "for key, value in counts.items():\n",
    "    print(f'{key}:\\t{value}')"
   ]
  },
  {
   "cell_type": "markdown",
   "id": "aeb1e7da-3e6b-480e-aa0d-7ff8a3213480",
   "metadata": {},
   "source": [
    "# What does a module contain?\n",
    "\n",
    "- Variables\n",
    "- Functions\n",
    "- Classes (new data types)\n",
    "\n",
    "All of these are available as attributes, after the module name and a `.`.  If you aren't sure what attributes a module supports, you have a few options to learn. One of the easiest is the `dir` function; if you run it on a module, you'll see all of its attributes.\n",
    "\n",
    "Any name that starts and ends with double underscore (known as a \"dunder\" in the Python world), is \"magic\" and shouldn't really be touched unless you know what you're doing.\n",
    "\n",
    "Any name that starts with a single underscore is considered private/internal, and definitely shouldn't be used or relied upon, because it might change."
   ]
  },
  {
   "cell_type": "code",
   "execution_count": 19,
   "id": "3cabfb24-664b-450a-958c-f6432eca04ab",
   "metadata": {},
   "outputs": [
    {
     "data": {
      "text/plain": [
       "['__all__',\n",
       " '__builtins__',\n",
       " '__cached__',\n",
       " '__doc__',\n",
       " '__file__',\n",
       " '__loader__',\n",
       " '__name__',\n",
       " '__package__',\n",
       " '__spec__',\n",
       " '_dir_open_flags',\n",
       " '_glob0',\n",
       " '_glob1',\n",
       " '_glob2',\n",
       " '_iglob',\n",
       " '_isdir',\n",
       " '_ishidden',\n",
       " '_isrecursive',\n",
       " '_iterdir',\n",
       " '_join',\n",
       " '_lexists',\n",
       " '_listdir',\n",
       " '_rlistdir',\n",
       " 'contextlib',\n",
       " 'escape',\n",
       " 'fnmatch',\n",
       " 'glob',\n",
       " 'glob0',\n",
       " 'glob1',\n",
       " 'has_magic',\n",
       " 'iglob',\n",
       " 'itertools',\n",
       " 'magic_check',\n",
       " 'magic_check_bytes',\n",
       " 'os',\n",
       " 're',\n",
       " 'stat',\n",
       " 'sys']"
      ]
     },
     "execution_count": 19,
     "metadata": {},
     "output_type": "execute_result"
    }
   ],
   "source": [
    "dir(glob)  # what does this module define?"
   ]
  },
  {
   "cell_type": "code",
   "execution_count": 20,
   "id": "6c0c7513-ef05-44a1-bbb2-71b1bcc80ccc",
   "metadata": {},
   "outputs": [
    {
     "data": {
      "text/plain": [
       "<module 'glob' from '/usr/local/Cellar/python@3.11/3.11.4_1/Frameworks/Python.framework/Versions/3.11/lib/python3.11/glob.py'>"
      ]
     },
     "execution_count": 20,
     "metadata": {},
     "output_type": "execute_result"
    }
   ],
   "source": [
    "glob  # print this"
   ]
  },
  {
   "cell_type": "code",
   "execution_count": 21,
   "id": "b052c811-65a1-461d-84e3-c51c869165e2",
   "metadata": {},
   "outputs": [
    {
     "data": {
      "text/plain": [
       "<module 'random' from '/usr/local/Cellar/python@3.11/3.11.4_1/Frameworks/Python.framework/Versions/3.11/lib/python3.11/random.py'>"
      ]
     },
     "execution_count": 21,
     "metadata": {},
     "output_type": "execute_result"
    }
   ],
   "source": [
    "random"
   ]
  },
  {
   "cell_type": "code",
   "execution_count": null,
   "id": "6137e370-ed66-4618-ae76-981217b35eef",
   "metadata": {},
   "outputs": [],
   "source": []
  },
  {
   "cell_type": "markdown",
   "id": "7fe687f4-72e9-4607-8887-b523a3430489",
   "metadata": {},
   "source": [
    "# Where is the module loaded from? \n",
    "\n",
    "When you say `import MODNAME`, Python looks for a file called `MODNAME.py`. We can see this if we print the module object that we created.\n",
    "\n",
    "How does Python know to look in those directories?\n",
    "\n",
    "Basically, there's a special list of strings called `sys.path`. When you use the `import` statement, Python iterates over that list of strings, one at a time, looking for the module name you specified.  As soon as it finds the module you want, Python stops.\n",
    "\n",
    "This means that if more than one directory has your module's filename in it, the first one wins."
   ]
  },
  {
   "cell_type": "code",
   "execution_count": 22,
   "id": "47fa71e2-24c2-4290-95e7-879d31c6cc3e",
   "metadata": {},
   "outputs": [
    {
     "data": {
      "text/plain": [
       "[\"/Users/reuven/Courses/Current/O'Reilly-2023-07July\",\n",
       " '/usr/local/Cellar/python@3.11/3.11.4_1/Frameworks/Python.framework/Versions/3.11/lib/python311.zip',\n",
       " '/usr/local/Cellar/python@3.11/3.11.4_1/Frameworks/Python.framework/Versions/3.11/lib/python3.11',\n",
       " '/usr/local/Cellar/python@3.11/3.11.4_1/Frameworks/Python.framework/Versions/3.11/lib/python3.11/lib-dynload',\n",
       " '',\n",
       " '/usr/local/lib/python3.11/site-packages',\n",
       " '/usr/local/Cellar/pybind11/2.11.1/libexec/lib/python3.11/site-packages',\n",
       " '/usr/local/opt/python-tk@3.11/libexec']"
      ]
     },
     "execution_count": 22,
     "metadata": {},
     "output_type": "execute_result"
    }
   ],
   "source": [
    "import sys    \n",
    "sys.path"
   ]
  },
  {
   "cell_type": "code",
   "execution_count": 23,
   "id": "63a881c1-41a3-4e08-9763-176d04f5c0b2",
   "metadata": {},
   "outputs": [
    {
     "ename": "ModuleNotFoundError",
     "evalue": "No module named 'asdfasdfsafdafa'",
     "output_type": "error",
     "traceback": [
      "\u001b[0;31m---------------------------------------------------------------------------\u001b[0m",
      "\u001b[0;31mModuleNotFoundError\u001b[0m                       Traceback (most recent call last)",
      "Cell \u001b[0;32mIn[23], line 1\u001b[0m\n\u001b[0;32m----> 1\u001b[0m \u001b[38;5;28;01mimport\u001b[39;00m \u001b[38;5;21;01masdfasdfsafdafa\u001b[39;00m\n",
      "\u001b[0;31mModuleNotFoundError\u001b[0m: No module named 'asdfasdfsafdafa'"
     ]
    }
   ],
   "source": [
    "import asdfasdfsafdafa"
   ]
  },
  {
   "cell_type": "code",
   "execution_count": 24,
   "id": "4502159a-bb83-400a-835b-2e26cc59d348",
   "metadata": {},
   "outputs": [
    {
     "name": "stdout",
     "output_type": "stream",
     "text": [
      "Help on built-in function dir in module builtins:\n",
      "\n",
      "dir(...)\n",
      "    dir([object]) -> list of strings\n",
      "    \n",
      "    If called without an argument, return the names in the current scope.\n",
      "    Else, return an alphabetized list of names comprising (some of) the attributes\n",
      "    of the given object, and of attributes reachable from it.\n",
      "    If the object supplies a method named __dir__, it will be used; otherwise\n",
      "    the default dir() logic is used and returns:\n",
      "      for a module object: the module's attributes.\n",
      "      for a class object:  its attributes, and recursively the attributes\n",
      "        of its bases.\n",
      "      for any other object: its attributes, its class's attributes, and\n",
      "        recursively the attributes of its class's base classes.\n",
      "\n"
     ]
    }
   ],
   "source": [
    "help(dir)"
   ]
  },
  {
   "cell_type": "markdown",
   "id": "215c6e9a-a758-4323-85eb-f3bdcfc6ac83",
   "metadata": {},
   "source": [
    "# What happens when you import a module?\n",
    "\n",
    "1. Python checks to see if the module was already loaded. If so, then it defines the variable, using the cached values.\n",
    "2. Otherwise, Python looks for the file you have specified in `import`, in each of the directories in `sys.path`.\n",
    "3. If it finds the file somewhere, then it loads the module and assigns it to the variable you named."
   ]
  },
  {
   "cell_type": "markdown",
   "id": "37b35365-f52a-4bf4-ad65-ffeb51e0f416",
   "metadata": {},
   "source": [
    "My talk: What happens when you import a module?\n",
    "\n",
    "https://www.youtube.com/watch?v=CraNpITZwRo\n",
    "\n"
   ]
  },
  {
   "cell_type": "markdown",
   "id": "33ac8160-5774-48c6-bd89-7b1060678250",
   "metadata": {},
   "source": [
    "# Exercise: Total file sizes\n",
    "\n",
    "1. We have now seen the `glob` module and the `glob.glob` function.\n",
    "2. There's also an `os` module, which works with your operating system and returns information about files, directories, and the like.  One of the useful functions in there is the `os.stat` function, which returns data about a file. So if you pass `os.stat` a filename, you'll get back an object containing information about when the file was created, modified, and also its size. The size is available as `st_size` on the returned object.\n",
    "3. Ask the user to enter a file pattern.\n",
    "4. Use `glob.glob` to find all of the files with this pattern.\n",
    "5. Print each of the files and their sizes (thanks to `os.stat`)\n",
    "6. Then print the total size, in bytes, of these files.\n",
    " "
   ]
  },
  {
   "cell_type": "code",
   "execution_count": 27,
   "id": "3946b284-f2e9-42a8-afc9-6b9c3fbdb7db",
   "metadata": {},
   "outputs": [
    {
     "data": {
      "text/plain": [
       "8164"
      ]
     },
     "execution_count": 27,
     "metadata": {},
     "output_type": "execute_result"
    }
   ],
   "source": [
    "os.stat('/etc/passwd').st_size"
   ]
  },
  {
   "cell_type": "code",
   "execution_count": 30,
   "id": "e959ce18-758f-4c97-9aba-5750db52f68d",
   "metadata": {},
   "outputs": [
    {
     "name": "stdin",
     "output_type": "stream",
     "text": [
      "Enter a pattern:  *.txt\n"
     ]
    },
    {
     "name": "stdout",
     "output_type": "stream",
     "text": [
      "mini-access-log.txt:\t36562\n",
      "nums.txt:\t42\n",
      "shoe-data.txt:\t1676\n",
      "linux-etc-passwd.txt:\t2683\n",
      "wcfile.txt:\t165\n",
      "myfile.txt:\t35\n",
      "----------------------------------------\n",
      "41163\n"
     ]
    }
   ],
   "source": [
    "import glob\n",
    "import os\n",
    "\n",
    "pattern = input('Enter a pattern: ').strip()\n",
    "total = 0\n",
    "\n",
    "for one_filename in glob.glob(pattern):\n",
    "    size = os.stat(one_filename).st_size\n",
    "    total += size\n",
    "    \n",
    "    print(f'{one_filename}:\\t{size}')\n",
    "\n",
    "print('-' * 40)\n",
    "print(total)"
   ]
  },
  {
   "cell_type": "markdown",
   "id": "10f0120d-1117-4a18-92f9-c681c8ac26c8",
   "metadata": {},
   "source": [
    "# Next up\n",
    "\n",
    "1. Variations on `import`\n",
    "2. Developing a module"
   ]
  },
  {
   "cell_type": "code",
   "execution_count": null,
   "id": "cae3a058-a3d3-496f-9a0e-323f3f920a17",
   "metadata": {},
   "outputs": [],
   "source": []
  }
 ],
 "metadata": {
  "kernelspec": {
   "display_name": "Python 3 (ipykernel)",
   "language": "python",
   "name": "python3"
  },
  "language_info": {
   "codemirror_mode": {
    "name": "ipython",
    "version": 3
   },
   "file_extension": ".py",
   "mimetype": "text/x-python",
   "name": "python",
   "nbconvert_exporter": "python",
   "pygments_lexer": "ipython3",
   "version": "3.11.4"
  }
 },
 "nbformat": 4,
 "nbformat_minor": 5
}
